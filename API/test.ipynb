{
 "cells": [
  {
   "cell_type": "code",
   "execution_count": 2,
   "metadata": {},
   "outputs": [],
   "source": [
    "from graph import graph"
   ]
  },
  {
   "cell_type": "code",
   "execution_count": 6,
   "metadata": {},
   "outputs": [
    {
     "name": "stdout",
     "output_type": "stream",
     "text": [
      "================================\u001b[1m System Message \u001b[0m================================\n",
      "\n",
      "You're an assistant who is an expert in financial markets.\n",
      "                               Always, introduce your background in\n",
      "                               no more than 15 words.\n",
      "================================\u001b[1m System Message \u001b[0m================================\n",
      "\n",
      "You're an assistant who is an expert in financial markets.\n",
      "                               Always, introduce your background in\n",
      "                               no more than 15 words.\n",
      "================================\u001b[1m Human Message \u001b[0m=================================\n",
      "\n",
      "This is my strategy: سلام! تست میشه؟\n"
     ]
    }
   ],
   "source": [
    "# the history of the chat\n",
    "config = {\"configurable\": {\"thread_id\": \"1\"}}\n",
    "snapshot = graph.get_state(config)\n",
    "existing_message = snapshot.values[\"messages\"]\n",
    "for msg in snapshot.values[\"messages\"]:\n",
    "    msg.pretty_print()"
   ]
  },
  {
   "cell_type": "code",
   "execution_count": 7,
   "metadata": {},
   "outputs": [],
   "source": [
    "# todos :\n",
    "# use in memory chat, and openAI for conversation, because somehow cohere takes too long."
   ]
  },
  {
   "cell_type": "code",
   "execution_count": null,
   "metadata": {},
   "outputs": [],
   "source": []
  }
 ],
 "metadata": {
  "kernelspec": {
   "display_name": ".venv",
   "language": "python",
   "name": "python3"
  },
  "language_info": {
   "codemirror_mode": {
    "name": "ipython",
    "version": 3
   },
   "file_extension": ".py",
   "mimetype": "text/x-python",
   "name": "python",
   "nbconvert_exporter": "python",
   "pygments_lexer": "ipython3",
   "version": "3.12.3"
  }
 },
 "nbformat": 4,
 "nbformat_minor": 2
}
