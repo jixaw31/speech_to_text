{
 "cells": [
  {
   "cell_type": "code",
   "execution_count": 3,
   "metadata": {},
   "outputs": [
    {
     "name": "stdout",
     "output_type": "stream",
     "text": [
      "fetching...\n",
      "Hello! How can I help you today?\n"
     ]
    }
   ],
   "source": [
    "import os\n",
    "from langchain_cohere import ChatCohere\n",
    "\n",
    "\n",
    "\n",
    "llm = ChatCohere(model=\"command-r-plus\", max_tokens=512, api_key=os.getenv(\"COHERE_API_KEY\"))\n",
    "\n",
    "print(\"fetching...\")\n",
    "print(llm.invoke('hello!').content)"
   ]
  }
 ],
 "metadata": {
  "kernelspec": {
   "display_name": ".venv",
   "language": "python",
   "name": "python3"
  },
  "language_info": {
   "codemirror_mode": {
    "name": "ipython",
    "version": 3
   },
   "file_extension": ".py",
   "mimetype": "text/x-python",
   "name": "python",
   "nbconvert_exporter": "python",
   "pygments_lexer": "ipython3",
   "version": "3.12.3"
  }
 },
 "nbformat": 4,
 "nbformat_minor": 2
}
