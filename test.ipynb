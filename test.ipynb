{
 "cells": [
  {
   "cell_type": "code",
   "execution_count": 3,
   "metadata": {},
   "outputs": [
    {
     "name": "stdout",
     "output_type": "stream",
     "text": [
      "fetching...\n",
      "Hello! How can I help you today?\n"
     ]
    }
   ],
   "source": [
    "import os\n",
    "from langchain_cohere import ChatCohere\n",
    "\n",
    "\n",
    "\n",
    "llm = ChatCohere(model=\"command-r-plus\", max_tokens=512, api_key=os.getenv(\"COHERE_API_KEY\"))\n",
    "\n",
    "print(\"fetching...\")\n",
    "print(llm.invoke('hello!').content)"
   ]
  },
  {
   "cell_type": "code",
   "execution_count": null,
   "metadata": {},
   "outputs": [],
   "source": [
    "import streamlit as st\n",
    "import requests\n",
    "from io import BytesIO\n",
    "from audiorecorder import audiorecorder  # Assuming this is a custom module or library\n",
    "\n",
    "BACKEND_URL = \"http://localhost:8000\"\n",
    "CHAT_API_URL = f\"{BACKEND_URL}/chat\"\n",
    "\n",
    "st.title(\"Speech-to-Text and Chatbot Application\")\n",
    "\n",
    "# ----------------- Functions -----------------\n",
    "def post_transcribe(audio):\n",
    "    with st.spinner(\"Transcribing...\"):\n",
    "        response = requests.post(\n",
    "            f\"{BACKEND_URL}/transcribe/\",\n",
    "            files={\"file\": (\"recorded_audio.wav\", audio, \"audio/wav\")}\n",
    "        )\n",
    "        if response.status_code == 200:\n",
    "            result = response.json()\n",
    "            st.text_area(\"Transcription:\", result.get(\"transcription\", \"\"), height=150)\n",
    "        else:\n",
    "            st.error(f\"Error during transcription: {response.status_code} - {response.text}\")\n",
    "\n",
    "def post_chat(user_message):\n",
    "    try:\n",
    "        response = requests.post(CHAT_API_URL, json={\"user_message\": user_message})\n",
    "        if response.status_code == 200:\n",
    "            return response.json().get(\"bot_reply\", \"No reply received.\")\n",
    "        else:\n",
    "            st.error(f\"Error: {response.status_code} - {response.text}\")\n",
    "            return None\n",
    "    except Exception as e:\n",
    "        st.error(\"Failed to connect to the backend.\")\n",
    "        return None\n",
    "\n",
    "# ----------------- Real-Time Recording -----------------\n",
    "st.subheader(\"Audio Recording Transcription\")\n",
    "if st.button(\"Record Audio\"):\n",
    "    recorded_audio = audiorecorder()\n",
    "    if len(recorded_audio) > 0:\n",
    "        ra = recorded_audio.export(format='wav')\n",
    "        buffer = BytesIO(ra.read())\n",
    "        st.audio(buffer)\n",
    "        post_transcribe(buffer)\n",
    "\n",
    "# ----------------- Audio File Upload -----------------\n",
    "st.subheader(\"Audio File Transcription\")\n",
    "uploaded_audio = st.file_uploader(\"Upload an audio file (e.g., .wav)\")\n",
    "if uploaded_audio:\n",
    "    post_transcribe(uploaded_audio)\n",
    "\n",
    "# ----------------- Chatbot -----------------\n",
    "st.subheader(\"Chatbot Interaction\")\n",
    "user_message = st.text_input(\"You:\", placeholder=\"Type your message here...\")\n",
    "\n",
    "if st.button(\"Send Message\"):\n",
    "    if user_message.strip():\n",
    "        bot_reply = post_chat(user_message)\n",
    "        if bot_reply:\n",
    "            st.text_area(\"Bot Reply:\", value=bot_reply, height=200)\n",
    "    else:\n",
    "        st.warning(\"Please enter a message before sending.\")\n"
   ]
  },
  {
   "cell_type": "code",
   "execution_count": 3,
   "metadata": {},
   "outputs": [],
   "source": [
    "from API.graph import graph"
   ]
  },
  {
   "cell_type": "code",
   "execution_count": null,
   "metadata": {},
   "outputs": [],
   "source": []
  },
  {
   "cell_type": "code",
   "execution_count": 5,
   "metadata": {},
   "outputs": [
    {
     "name": "stdout",
     "output_type": "stream",
     "text": [
      "================================\u001b[1m System Message \u001b[0m================================\n",
      "\n",
      "You're an assistant who is an expert in financial markets.\n",
      "                               Always, introduce your background in\n",
      "                               no more than 15 words.\n"
     ]
    }
   ],
   "source": [
    "# the history of the chat\n",
    "config = {\"configurable\": {\"thread_id\": \"1\"}}\n",
    "snapshot = graph.get_state(config)\n",
    "existing_message = snapshot.values[\"messages\"]\n",
    "for msg in snapshot.values[\"messages\"]:\n",
    "    msg.pretty_print()\n"
   ]
  }
 ],
 "metadata": {
  "kernelspec": {
   "display_name": ".venv",
   "language": "python",
   "name": "python3"
  },
  "language_info": {
   "codemirror_mode": {
    "name": "ipython",
    "version": 3
   },
   "file_extension": ".py",
   "mimetype": "text/x-python",
   "name": "python",
   "nbconvert_exporter": "python",
   "pygments_lexer": "ipython3",
   "version": "3.12.3"
  }
 },
 "nbformat": 4,
 "nbformat_minor": 2
}
